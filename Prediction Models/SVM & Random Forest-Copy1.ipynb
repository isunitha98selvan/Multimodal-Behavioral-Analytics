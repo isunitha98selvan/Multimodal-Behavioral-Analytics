{
 "cells": [
  {
   "cell_type": "code",
   "execution_count": 92,
   "metadata": {},
   "outputs": [],
   "source": [
    "import pandas as pd\n",
    "from sklearn.ensemble import RandomForestClassifier\n",
    "from sklearn.datasets import make_classification\n",
    "from sklearn.model_selection import train_test_split\n",
    "from sklearn.metrics import accuracy_score\n",
    "from sklearn import svm\n",
    "from sklearn import linear_model\n",
    "from sklearn.model_selection import GridSearchCV\n",
    "import numpy as np\n",
    "import sklearn.utils\n",
    "import warnings\n",
    "warnings.filterwarnings(\"ignore\")\n",
    "from mlxtend.classifier import MultiLayerPerceptron as MLP"
   ]
  },
  {
   "cell_type": "code",
   "execution_count": 93,
   "metadata": {},
   "outputs": [],
   "source": [
    "x_data = \"/Users/anumehaagrawal/Documents/Course_Work/Emotion-Analysis-in-Multimodal-data/Combined/final - three_features_merged.csv\"\n",
    "y_data = \"/Users/anumehaagrawal/Documents/Course_Work/Emotion-Analysis-in-Multimodal-data/Combined/y-output - Sheet1.csv\""
   ]
  },
  {
   "cell_type": "code",
   "execution_count": 101,
   "metadata": {},
   "outputs": [
    {
     "name": "stdout",
     "output_type": "stream",
     "text": [
      "(137, 100)\n"
     ]
    }
   ],
   "source": [
    "x_df = pd.read_csv(x_data)\n",
    "y_df = pd.read_csv(y_data)\n",
    "y_df = y_df.astype(int, errors='ignore')\n",
    "x_df = x_df.drop(x_df.columns[0], axis=1)\n",
    "y_df = y_df.drop(y_df.columns[0], axis=1)\n",
    "y_df = y_df.drop(y_df.columns[-1], axis=1)\n",
    "x_df = x_df.abs()\n",
    "\n",
    "# y_df = y_df.astype(int, errors='ignore')\n",
    "# x_df = x_df.drop(x_df.columns[0], axis=1)\n",
    "# y_df = y_df.drop(y_df.columns[0], axis=1)\n",
    "# y_df = y_df.drop(y_df.columns[-1], axis=1)\n",
    "# x_df = x_df.abs()\n",
    "# df = pd.concat([x_df,y_df],axis =1)\n",
    "# df = sklearn.utils.shuffle(df)\n",
    "\n",
    "# x_df = df.iloc[:,:100]\n",
    "# y_df = df.iloc[:,100:]\n",
    "print(x_df.shape)"
   ]
  },
  {
   "cell_type": "code",
   "execution_count": 212,
   "metadata": {},
   "outputs": [
    {
     "name": "stdout",
     "output_type": "stream",
     "text": [
      "0\n",
      "1\n",
      "2\n",
      "3\n",
      "4\n"
     ]
    }
   ],
   "source": [
    "acc = [0 for i in range(18)]\n",
    "for j in range(5):\n",
    "    print(j)\n",
    "   \n",
    "    df = pd.concat([x_df,y_df],axis =1)\n",
    "    df = sklearn.utils.shuffle(df)\n",
    "\n",
    "    x_df = df.iloc[:,:100]\n",
    "    y_df = df.iloc[:,100:]\n",
    "\n",
    "    X_train, X_test, y_train, y_test = train_test_split(x_df, y_df, test_size=0.2,random_state=42)\n",
    "    clf = RandomForestClassifier(random_state=42, max_features=7, n_estimators= 45, max_depth=9, criterion='entropy')\n",
    "    #clf =svm.SVC(decision_function_shape='ovo')\n",
    "    for i in range(len(y_train.columns)):\n",
    "        y = y_train[y_train.columns[i:i+1]]\n",
    "        clf.fit(X_train, y)\n",
    "        y_pred = clf.predict(X_test)\n",
    "        y_predict = pd.DataFrame(y_pred)\n",
    "        acc[i] += accuracy_score(y_test[y_test.columns[i:i+1]],y_predict)\n"
   ]
  },
  {
   "cell_type": "code",
   "execution_count": 213,
   "metadata": {},
   "outputs": [
    {
     "name": "stdout",
     "output_type": "stream",
     "text": [
      "0.5357142857142857\n",
      "0.3428571428571428\n",
      "0.48571428571428577\n",
      "0.5999999999999999\n",
      "0.40714285714285714\n",
      "0.5071428571428572\n",
      "0.4071428571428572\n",
      "0.8285714285714285\n",
      "0.29285714285714287\n",
      "0.40714285714285714\n",
      "0.7\n",
      "0.4714285714285714\n",
      "0.43571428571428567\n",
      "0.6071428571428571\n",
      "0.6071428571428571\n",
      "0.6714285714285715\n",
      "0.5714285714285714\n",
      "0.36428571428571427\n"
     ]
    }
   ],
   "source": [
    "for i in range(18):\n",
    "    print(acc[i]/5)"
   ]
  },
  {
   "cell_type": "code",
   "execution_count": null,
   "metadata": {},
   "outputs": [],
   "source": []
  },
  {
   "cell_type": "code",
   "execution_count": null,
   "metadata": {},
   "outputs": [],
   "source": []
  },
  {
   "cell_type": "code",
   "execution_count": null,
   "metadata": {},
   "outputs": [],
   "source": []
  }
 ],
 "metadata": {
  "kernelspec": {
   "display_name": "Python 3",
   "language": "python",
   "name": "python3"
  },
  "language_info": {
   "codemirror_mode": {
    "name": "ipython",
    "version": 3
   },
   "file_extension": ".py",
   "mimetype": "text/x-python",
   "name": "python",
   "nbconvert_exporter": "python",
   "pygments_lexer": "ipython3",
   "version": "3.7.4"
  }
 },
 "nbformat": 4,
 "nbformat_minor": 2
}
