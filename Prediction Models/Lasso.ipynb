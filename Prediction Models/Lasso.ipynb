{
 "cells": [
  {
   "cell_type": "code",
   "execution_count": 1,
   "metadata": {},
   "outputs": [],
   "source": [
    "import pandas as pd\n",
    "from sklearn import linear_model\n",
    "from sklearn.datasets import make_classification\n",
    "from sklearn.model_selection import train_test_split\n",
    "from sklearn.metrics import accuracy_score\n",
    "from sklearn.model_selection import GridSearchCV"
   ]
  },
  {
   "cell_type": "code",
   "execution_count": 2,
   "metadata": {},
   "outputs": [],
   "source": [
    "x_data = \"../Combined/final - three_features_merged.csv\"\n",
    "y_data = \"../Combined/y-output - Sheet1.csv\""
   ]
  },
  {
   "cell_type": "code",
   "execution_count": 3,
   "metadata": {},
   "outputs": [],
   "source": [
    "x_df = pd.read_csv(x_data)\n",
    "y_df = pd.read_csv(y_data)\n",
    "y_df = y_df.astype(int, errors='ignore')\n",
    "x_df = x_df.drop(x_df.columns[0], axis=1)\n",
    "y_df = y_df.drop(y_df.columns[0], axis=1)\n",
    "X_train, X_test, y_train, y_test = train_test_split(x_df, y_df, test_size=0.25, random_state=42)"
   ]
  },
  {
   "cell_type": "code",
   "execution_count": 4,
   "metadata": {},
   "outputs": [
    {
     "data": {
      "text/plain": [
       "MultiTaskLasso(alpha=0.4, copy_X=True, fit_intercept=True, max_iter=1000,\n",
       "               normalize=False, random_state=42, selection='cyclic', tol=0.0001,\n",
       "               warm_start=False)"
      ]
     },
     "execution_count": 4,
     "metadata": {},
     "output_type": "execute_result"
    }
   ],
   "source": [
    "clf = linear_model.MultiTaskLasso(alpha=0.4,random_state=42) #0.4 0.5\n",
    "clf.fit(X_train, y_train)"
   ]
  },
  {
   "cell_type": "code",
   "execution_count": 5,
   "metadata": {},
   "outputs": [
    {
     "name": "stdout",
     "output_type": "stream",
     "text": [
      "    0  1  2  3  4  5  6  7  8  9  10  11  12  13  14  15  16  17  18\n",
      "0   4  4  4  4  4  4  4  4  3  4   5   4   4   4   4   5   5   4  90\n",
      "1   4  4  4  4  4  4  4  4  3  4   5   4   4   4   4   4   5   4  90\n",
      "2   4  4  4  4  4  4  4  4  3  5   5   4   3   4   4   5   5   4  90\n",
      "3   4  4  4  5  4  4  4  4  3  4   5   4   4   5   5   5   5   4  92\n",
      "4   4  4  4  4  4  4  4  4  4  4   5   4   4   5   4   5   5   4  93\n",
      "5   4  4  4  4  4  4  4  4  3  5   4   4   4   4   4   5   5   4  91\n",
      "6   4  4  4  4  4  4  4  4  3  5   5   4   3   4   4   5   5   4  91\n",
      "7   4  4  4  5  3  5  4  3  3  5   4   4   3   6   5   5   5   4  94\n",
      "8   4  4  4  4  4  4  4  3  4  5   5   4   4   4   4   5   5   4  92\n",
      "9   4  4  4  4  4  4  4  4  4  4   5   4   4   4   4   5   5   4  91\n",
      "10  4  4  4  5  4  5  4  4  3  5   4   4   4   4   5   5   5   4  93\n",
      "11  4  4  4  4  4  5  4  3  3  4   4   4   4   4   5   5   5   4  91\n",
      "12  4  4  4  4  4  4  4  4  4  4   4   4   4   4   4   5   5   4  93\n",
      "13  4  4  4  4  4  4  4  4  4  4   4   4   4   4   5   5   5   4  93\n",
      "14  4  4  4  5  4  4  4  4  4  4   5   4   4   4   5   5   5   4  93\n",
      "15  4  4  4  4  4  4  4  4  4  4   5   4   4   4   4   5   5   4  91\n",
      "16  4  4  4  5  4  5  4  4  3  5   4   4   3   4   5   5   5   4  92\n",
      "17  4  4  4  4  4  4  4  4  3  5   5   4   3   4   4   5   5   4  90\n",
      "18  4  4  4  4  4  4  4  4  4  4   5   4   4   4   4   5   5   4  92\n",
      "19  4  4  4  4  4  4  4  4  3  4   4   4   4   4   4   5   5   4  90\n",
      "20  4  4  4  4  4  4  4  4  4  4   5   4   4   5   4   5   5   4  92\n",
      "21  4  4  4  4  4  4  5  4  3  5   5   4   4   4   4   5   5   4  92\n",
      "22  5  4  4  5  4  5  4  4  3  4   4   4   4   5   5   5   5   5  95\n",
      "23  4  3  4  4  4  4  4  4  3  4   5   3   3   4   4   5   5   3  87\n",
      "24  4  4  4  4  3  4  4  3  3  4   5   4   3   5   4   5   5   4  89\n",
      "25  5  4  4  5  4  4  4  4  4  4   4   4   4   5   5   5   5   4  95\n",
      "26  4  4  4  4  4  4  5  4  4  5   5   4   4   4   4   5   5   4  93\n",
      "27  4  4  4  4  4  4  5  4  3  5   5   4   3   4   4   5   5   4  90\n",
      "28  4  4  4  5  4  5  4  4  3  4   4   4   3   5   5   5   5   4  92\n",
      "29  4  4  4  4  4  4  5  3  3  5   5   4   4   5   4   5   5   4  92\n",
      "30  4  3  4  4  4  4  4  4  3  4   5   3   4   4   4   5   5   4  89\n",
      "31  4  4  4  4  4  4  4  4  3  5   5   4   3   4   4   5   5   4  90\n",
      "32  4  4  4  4  4  5  4  4  3  5   4   4   3   4   5   5   5   4  92\n",
      "33  4  4  4  4  4  4  4  4  3  5   5   4   4   4   4   5   5   4  91\n",
      "34  4  4  4  4  4  4  4  4  3  4   4   4   4   4   4   5   5   4  92\n"
     ]
    }
   ],
   "source": [
    "y_pred = clf.predict(X_test).astype(int)\n",
    "y_predict = pd.DataFrame(y_pred)\n",
    "print(y_predict)"
   ]
  },
  {
   "cell_type": "code",
   "execution_count": 6,
   "metadata": {},
   "outputs": [
    {
     "name": "stdout",
     "output_type": "stream",
     "text": [
      "0.3142857142857143\n",
      "0.37142857142857144\n",
      "0.37142857142857144\n",
      "0.34285714285714286\n",
      "0.3142857142857143\n",
      "0.34285714285714286\n",
      "0.3142857142857143\n",
      "0.7428571428571429\n",
      "0.2571428571428571\n",
      "0.37142857142857144\n",
      "0.5142857142857142\n",
      "0.3142857142857143\n",
      "0.2857142857142857\n",
      "0.22857142857142856\n",
      "0.2571428571428571\n",
      "0.6285714285714286\n",
      "0.6\n",
      "0.42857142857142855\n",
      "0.08571428571428572\n"
     ]
    }
   ],
   "source": [
    "num = 0\n",
    "for i in range(len(y_test.columns)):\n",
    "    print(accuracy_score(y_test[y_test.columns[i:i+1]],y_predict[y_predict.columns[i:i+1]]))"
   ]
  }
 ],
 "metadata": {
  "kernelspec": {
   "display_name": "Python 3",
   "language": "python",
   "name": "python3"
  },
  "language_info": {
   "codemirror_mode": {
    "name": "ipython",
    "version": 3
   },
   "file_extension": ".py",
   "mimetype": "text/x-python",
   "name": "python",
   "nbconvert_exporter": "python",
   "pygments_lexer": "ipython3",
   "version": "3.7.6"
  }
 },
 "nbformat": 4,
 "nbformat_minor": 2
}
