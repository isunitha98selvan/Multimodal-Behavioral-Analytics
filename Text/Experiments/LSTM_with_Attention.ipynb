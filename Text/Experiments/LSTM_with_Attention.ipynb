{
 "cells": [
  {
   "cell_type": "markdown",
   "metadata": {},
   "source": [
    "# Emotion Classification using Text"
   ]
  },
  {
   "cell_type": "markdown",
   "metadata": {},
   "source": [
    "## Context\n",
    "Detect emotions (HAPPY, SAD, FEAR, ANGRY, DISGUST, SURPRISE, NEUTRAL) from the text\n",
    "\n",
    "### Data:\n",
    "- The Interactive Emotional Dyadic Motion Capture (IEMOCAP) database is an acted, multimodal and multi speaker database, collected at SAIL lab at USC. \n"
   ]
  },
  {
   "cell_type": "markdown",
   "metadata": {},
   "source": [
    "### Import Statements"
   ]
  },
  {
   "cell_type": "code",
   "execution_count": 47,
   "metadata": {},
   "outputs": [],
   "source": [
    "import argparse\n",
    "import pickle\n",
    "import sys\n",
    "\n",
    "import numpy as np\n",
    "\n",
    "seed = 1234\n",
    "\n",
    "np.random.seed(seed)\n",
    "import tensorflow as tf\n",
    "from tqdm import tqdm\n",
    "\n",
    "from model import LSTM_Model\n",
    "\n",
    "from sklearn.metrics import f1_score\n",
    "\n",
    "tf.set_random_seed(seed)\n"
   ]
  },
  {
   "cell_type": "markdown",
   "metadata": {},
   "source": [
    "### Reading the data and training using LSTM with attention"
   ]
  },
  {
   "cell_type": "code",
   "execution_count": null,
   "metadata": {},
   "outputs": [],
   "source": [
    "\n",
    "unimodal_activations = {}\n",
    "\n",
    "train_accuracy = []\n",
    "val_accuracy = []\n",
    "train_loss = []\n",
    "val_loss = []\n",
    "\n",
    "def unimodal(mode, data, classes):\n",
    "    print(('starting unimodal ', mode))\n",
    "\n",
    "    if data == 'mosei' or data == 'mosi':\n",
    "        with open('./dataset/{0}/raw/{1}_{2}way.pickle'.format(data, mode, classes), 'rb') as handle:\n",
    "            u = pickle._Unpickler(handle)\n",
    "            u.encoding = 'latin1'\n",
    "            if data == 'mosei':\n",
    "                (train_data, train_label, _, _, test_data, test_label, _, train_length, _, test_length, _, _,\n",
    "                 _) = u.load()\n",
    "                if classes == '2':\n",
    "                    train_label, test_label = createOneHotMosei2way(train_label, test_label)\n",
    "            elif data == 'mosi':\n",
    "                (train_data, train_label, test_data, test_label, maxlen, train_length, test_length) = u.load()\n",
    "                train_label = train_label.astype('int')\n",
    "                test_label = test_label.astype('int')\n",
    "                train_label, test_label = createOneHot(train_label, test_label)\n",
    "            else:\n",
    "                raise NotImplementedError('Unknown dataset...')\n",
    "\n",
    "            train_label = train_label.astype('int')\n",
    "            test_label = test_label.astype('int')\n",
    "\n",
    "            train_mask = np.zeros((train_data.shape[0], train_data.shape[1]), dtype='float')\n",
    "            for i in range(len(train_length)):\n",
    "                train_mask[i, :train_length[i]] = 1.0\n",
    "\n",
    "            test_mask = np.zeros((test_data.shape[0], test_data.shape[1]), dtype='float')\n",
    "            for i in range(len(test_length)):\n",
    "                test_mask[i, :test_length[i]] = 1.0\n",
    "    elif data == 'iemocap':\n",
    "        train_data, test_data, text_train, text_test, video_train, video_test, train_label, test_label, seqlen_train, seqlen_test, train_mask, test_mask = get_raw_data(\n",
    "            data, classes)\n",
    "        train_data = text_train\n",
    "        \n",
    "    # train_label, test_label = createOneHotMosei3way(train_label, test_label)\n",
    "\n",
    "    attn_fusion = False\n",
    "\n",
    "    print('train_mask', train_mask.shape)\n",
    "\n",
    "    # print(train_mask_bool)\n",
    "    seqlen_train = np.sum(train_mask, axis=-1)\n",
    "    print('seqlen_train', seqlen_train.shape)\n",
    "    seqlen_test = np.sum(test_mask, axis=-1)\n",
    "    print('seqlen_test', seqlen_test.shape)\n",
    "\n",
    "    allow_soft_placement = True\n",
    "    log_device_placement = False\n",
    "\n",
    "    # Multimodal model\n",
    "    session_conf = tf.ConfigProto(\n",
    "        # device_count={'GPU': gpu_count},\n",
    "        allow_soft_placement=allow_soft_placement,\n",
    "        log_device_placement=log_device_placement,\n",
    "        gpu_options=tf.GPUOptions(allow_growth=True))\n",
    "    gpu_device = 0\n",
    "    best_acc = 0\n",
    "    best_epoch = 0\n",
    "    best_loss = 1000000.0\n",
    "    best_epoch_loss = 0\n",
    "    is_unimodal = True\n",
    "    with tf.device('/device:GPU:%d' % gpu_device):\n",
    "        print('Using GPU - ', '/device:GPU:%d' % gpu_device)\n",
    "        with tf.Graph().as_default():\n",
    "            tf.set_random_seed(seed)\n",
    "            sess = tf.Session(config=session_conf)\n",
    "            with sess.as_default():\n",
    "                model = LSTM_Model(train_data.shape[1:], 0.0001, a_dim=0, v_dim=0, t_dim=0, emotions=classes,\n",
    "                                   attn_fusion=attn_fusion, unimodal=is_unimodal, seed=seed)\n",
    "                sess.run(tf.group(tf.global_variables_initializer(), tf.local_variables_initializer()))\n",
    "\n",
    "                test_feed_dict = {\n",
    "                    model.input: test_data,\n",
    "                    model.y: test_label,\n",
    "                    model.seq_len: seqlen_test,\n",
    "                    model.mask: test_mask,\n",
    "                    model.lstm_dropout: 0.0,\n",
    "                    model.lstm_inp_dropout: 0.0,\n",
    "                    model.dropout: 0.0,\n",
    "                    model.dropout_lstm_out: 0.0\n",
    "\n",
    "                }\n",
    "                train_feed_dict = {\n",
    "                    model.input: train_data,\n",
    "                    model.y: train_label,\n",
    "                    model.seq_len: seqlen_train,\n",
    "                    model.mask: train_mask,\n",
    "                    model.lstm_dropout: 0.0,\n",
    "                    model.lstm_inp_dropout: 0.0,\n",
    "                    model.dropout: 0.0,\n",
    "                    model.dropout_lstm_out: 0.0\n",
    "\n",
    "                }\n",
    "                # print('\\n\\nDataset: %s' % (data))\n",
    "                print(\"\\nEvaluation before training:\")\n",
    "                # Evaluation after epoch\n",
    "                step, loss, accuracy = sess.run(\n",
    "                    [model.global_step, model.loss, model.accuracy],\n",
    "                    test_feed_dict)\n",
    "                print(\"EVAL: epoch {}: step {}, loss {:g}, acc {:g}\".format(0, step, loss, accuracy))\n",
    "\n",
    "                for epoch in range(epochs):\n",
    "                    epoch += 1\n",
    "\n",
    "                    batches = batch_iter(list(\n",
    "                        zip(train_data, train_mask, seqlen_train, train_label)),\n",
    "                        batch_size)\n",
    "\n",
    "                    # Training loop. For each batch...\n",
    "                    print('\\nTraining epoch {}'.format(epoch))\n",
    "                    l = []\n",
    "                    a = []\n",
    "                    for i, batch in tqdm(enumerate(batches)):\n",
    "                        b_train_data, b_train_mask, b_seqlen_train, b_train_label = zip(\n",
    "                            *batch)\n",
    "                        feed_dict = {\n",
    "                            model.input: b_train_data,\n",
    "                            model.y: b_train_label,\n",
    "                            model.seq_len: b_seqlen_train,\n",
    "                            model.mask: b_train_mask,\n",
    "                            model.lstm_dropout: 0.4,\n",
    "                            model.lstm_inp_dropout: 0.0,\n",
    "                            model.dropout: 0.2,\n",
    "                            model.dropout_lstm_out: 0.2\n",
    "\n",
    "                        }\n",
    "\n",
    "                        _, step, loss, accuracy = sess.run(\n",
    "                            [model.train_op, model.global_step, model.loss, model.accuracy],\n",
    "                            feed_dict)\n",
    "                        l.append(loss)\n",
    "                        a.append(accuracy)\n",
    "                    train_accuracy.append(np.average(a))\n",
    "                    train_loss.append(np.average(l))\n",
    "                    print(\"\\t \\tEpoch {}:, loss {:g}, accuracy {:g}\".format(epoch, np.average(l), np.average(a)))\n",
    "                    # Evaluation after epoch\n",
    "                    step, loss, accuracy, test_activations = sess.run(\n",
    "                        [model.global_step, model.loss, model.accuracy, model.inter1],\n",
    "                        test_feed_dict)\n",
    "                    loss = loss / test_label.shape[0]\n",
    "                    print(\"EVAL: After epoch {}: step {}, loss {:g}, acc {:g}\".format(epoch, step, loss, accuracy))\n",
    "                    val_accuracy.append(accuracy)\n",
    "                    val_loss.append(loss)\n",
    "                    if accuracy > best_acc:\n",
    "                        best_epoch = epoch\n",
    "                        best_acc = accuracy\n",
    "\n",
    "                    if epoch == 30:\n",
    "                        step, loss, accuracy, train_activations = sess.run(\n",
    "                            [model.global_step, model.loss, model.accuracy, model.inter1],\n",
    "                            train_feed_dict)\n",
    "                        unimodal_activations[mode + '_train'] = train_activations\n",
    "                        unimodal_activations[mode + '_test'] = test_activations\n",
    "\n",
    "                        unimodal_activations['train_mask'] = train_mask\n",
    "                        unimodal_activations['test_mask'] = test_mask\n",
    "                        unimodal_activations['train_label'] = train_label\n",
    "                        unimodal_activations['test_label'] = test_label\n",
    "\n",
    "                    if loss < best_loss:\n",
    "                        best_epoch_loss = epoch\n",
    "                        best_loss = loss\n",
    "                    \n",
    "\n",
    "                print(\"\\n\\nBest epoch: {}\\nBest test accuracy: {}\".format(best_epoch, best_acc))\n",
    "                print(\"\\n\\nBest epoch: {}\\nBest test loss: {}\".format(best_epoch_loss, best_loss))\n",
    "\n"
   ]
  },
  {
   "cell_type": "code",
   "execution_count": null,
   "metadata": {},
   "outputs": [],
   "source": [
    "\n",
    "if __name__ == \"__main__\":\n",
    "    argv = sys.argv[1:]\n",
    "    parser = argparse.ArgumentParser()\n",
    "    parser.add_argument(\"--unimodal\", type=str2bool, nargs='?', const=True, default=True)\n",
    "    parser.add_argument(\"--fusion\", type=str2bool, nargs='?', const=True, default=False)\n",
    "    parser.add_argument(\"--attention_2\", type=str2bool, nargs='?', const=True, default=False)\n",
    "    parser.add_argument(\"--use_raw\", type=str2bool, nargs='?', const=True, default=False)\n",
    "    parser.add_argument(\"--data\", type=str, default='mosi')\n",
    "    parser.add_argument(\"--classes\", type=str, default='2')\n",
    "    args, _ = parser.parse_known_args(argv)\n",
    "\n",
    "    print(args)\n",
    "\n",
    "    batch_size = 20\n",
    "    epochs = 100\n",
    "    emotions = args.classes\n",
    "    assert args.data in ['mosi', 'mosei', 'iemocap']\n",
    "\n",
    "    if args.unimodal:\n",
    "        print(\"Training unimodals first\")\n",
    "        unimodal('text', args.data, args.classes)\n",
    "\n",
    "        print(\"Saving unimodal activations\")\n",
    "        with open('unimodal_{0}_{1}way.pickle'.format(args.data, args.classes), 'wb') as handle:\n",
    "            pickle.dump(unimodal_activations, handle, protocol=pickle.HIGHEST_PROTOCOL)\n",
    "\n",
    "    if not args.use_raw:\n",
    "        with open('unimodal_{0}_{1}way.pickle'.format(args.data, args.classes), 'rb') as handle:\n",
    "            u = pickle._Unpickler(handle)\n",
    "            u.encoding = 'latin1'\n",
    "            unimodal_activations = u.load()\n",
    "\n",
    "    \n",
    "    "
   ]
  },
  {
   "cell_type": "markdown",
   "metadata": {},
   "source": [
    "### Plotting the Graphs"
   ]
  },
  {
   "cell_type": "code",
   "execution_count": 45,
   "metadata": {},
   "outputs": [
    {
     "data": {
      "image/png": "[encoded data removed]",
      "text/plain": [
       "<Figure size 432x288 with 1 Axes>"
      ]
     },
     "metadata": {
      "needs_background": "light"
     },
     "output_type": "display_data"
    }
   ],
   "source": [
    "plt.plot(train_accuracy)\n",
    "plt.plot(val_accuracy)\n",
    "plt.title('Accuracy curve')\n",
    "plt.ylabel('Accuracy')\n",
    "plt.xlabel('Epochs')\n",
    "plt.legend(['Training Accuracy', 'Validation Accuracy'], loc='center right')\n",
    "plt.show()"
   ]
  },
  {
   "cell_type": "code",
   "execution_count": 46,
   "metadata": {},
   "outputs": [
    {
     "data": {
      "image/png": "[encoded data removed]",
      "text/plain": [
       "<Figure size 432x288 with 1 Axes>"
      ]
     },
     "metadata": {
      "needs_background": "light"
     },
     "output_type": "display_data"
    }
   ],
   "source": [
    "plt.plot(train_loss)\n",
    "plt.plot(val_loss)\n",
    "plt.title('Loss curve')\n",
    "plt.ylabel('Loss')\n",
    "plt.xlabel('Epoch')\n",
    "plt.legend(['Training Loss','Validation Loss'], loc='upper right')\n",
    "plt.show()"
   ]
  },
  {
   "cell_type": "code",
   "execution_count": null,
   "metadata": {},
   "outputs": [],
   "source": []
  }
 ],
 "metadata": {
  "kernelspec": {
   "display_name": "Python 3",
   "language": "python",
   "name": "python3"
  },
  "language_info": {
   "codemirror_mode": {
    "name": "ipython",
    "version": 3
   },
   "file_extension": ".py",
   "mimetype": "text/x-python",
   "name": "python",
   "nbconvert_exporter": "python",
   "pygments_lexer": "ipython3",
   "version": "3.6.8"
  }
 },
 "nbformat": 4,
 "nbformat_minor": 2
}
