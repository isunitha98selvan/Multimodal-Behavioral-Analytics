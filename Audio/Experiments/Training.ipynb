{
 "cells": [
  {
   "cell_type": "markdown",
   "metadata": {
    "colab_type": "text",
    "id": "RHSGbIrCiQjl"
   },
   "source": [
    "# Speech Emotion Recognition "
   ]
  },
  {
   "cell_type": "markdown",
   "metadata": {
    "colab_type": "text",
    "id": "PTc8qT9YMbv_"
   },
   "source": [
    "## Context\n",
    "Detect emotions (HAPPY, SAD, FEAR, ANGRY, DISGUST, SURPRISE, NEUTRAL) just by their voice. \n",
    "\n",
    "### Audio features:\n",
    "- **Log-mel-spectrogram**: the mel-frequency cepstrum (MFC) is a representation of the short-term power spectrum of a sound, based on a linear cosine transform of a log power spectrum on a nonlinear mel scale of frequency\n",
    "\n",
    "\n",
    "### Data:\n",
    "- **RAVDESS**: The Ryerson Audio-Visual Database of Emotional Speech and Song (RAVDESS) "
   ]
  },
  {
   "cell_type": "markdown",
   "metadata": {
    "colab_type": "text",
    "id": "_NCG5axvM21z"
   },
   "source": [
    "## General Imports"
   ]
  },
  {
   "cell_type": "code",
   "execution_count": null,
   "metadata": {
    "colab": {
     "base_uri": "https://localhost:8080/",
     "height": 34
    },
    "colab_type": "code",
    "id": "T3rnzxmfM2TV",
    "outputId": "b7c8c5b9-8c81-49d3-e8f3-011f6dc09447"
   },
   "outputs": [],
   "source": [
    "### General imports ###\n",
    "import os\n",
    "from glob import glob\n",
    "import pickle\n",
    "import numpy as np\n",
    "\n",
    "### Plot imports ###\n",
    "from IPython.display import Image\n",
    "import matplotlib.pyplot as plt\n",
    "\n",
    "### Time Distributed ConvNet imports ###\n",
    "import tensorflow as tf\n",
    "from tensorflow.keras.models import Sequential, Model\n",
    "from tensorflow.keras.layers import Input, Dense, Dropout, Activation, TimeDistributed, concatenate\n",
    "from tensorflow.keras.layers import Conv2D, MaxPooling2D, AveragePooling2D, BatchNormalization, LeakyReLU, Flatten\n",
    "from tensorflow.keras.layers import LSTM\n",
    "from tensorflow.keras.optimizers import Adam, SGD\n",
    "from tensorflow.keras.callbacks import EarlyStopping, ModelCheckpoint, ReduceLROnPlateau\n",
    "from tensorflow.keras import backend as K\n",
    "from keras.utils import np_utils\n",
    "from keras.utils import plot_model\n",
    "from sklearn.preprocessing import LabelEncoder\n",
    "\n",
    "### Warning ###\n",
    "import warnings\n",
    "warnings.filterwarnings('ignore')"
   ]
  },
  {
   "cell_type": "markdown",
   "metadata": {
    "colab_type": "text",
    "id": "vNOluZZ5NuaW"
   },
   "source": [
    "## III. Import datas"
   ]
  },
  {
   "cell_type": "code",
   "execution_count": null,
   "metadata": {
    "colab": {},
    "colab_type": "code",
    "id": "8to3kDPue_ts"
   },
   "outputs": [],
   "source": [
    "# RAVDESS mel-Spectrogram\n",
    "X_train = pickle.load(open('../Pickle/RAVDESS/DIS/[RAVDESS][MEL_SPECT][X_train].p', 'rb'))\n",
    "y_train = pickle.load(open('../Pickle/RAVDESS/DIS/[RAVDESS][MEL_SPECT][y_train].p', 'rb'))\n",
    "y_test = pickle.load(open('../Pickle/RAVDESS/DIS/[RAVDESS][MEL_SPECT][y_test].p', 'rb'))\n",
    "X_test = pickle.load(open('../Pickle/RAVDESS/DIS/[RAVDESS][MEL_SPECT][X_test].p', 'rb'))"
   ]
  },
  {
   "cell_type": "markdown",
   "metadata": {
    "colab_type": "text",
    "id": "iuhi0QWaOFk7"
   },
   "source": [
    "## IV. Encode label"
   ]
  },
  {
   "cell_type": "code",
   "execution_count": null,
   "metadata": {
    "colab": {},
    "colab_type": "code",
    "id": "IXcVPQs9ikbv"
   },
   "outputs": [],
   "source": [
    "# Encode Label from categorical to numerical\n",
    "lb = LabelEncoder()\n",
    "y_train = np_utils.to_categorical(lb.fit_transform(np.ravel(y_train)))\n",
    "y_test = np_utils.to_categorical(lb.transform(np.ravel(y_test)))"
   ]
  },
  {
   "cell_type": "markdown",
   "metadata": {
    "colab_type": "text",
    "id": "zJrNbLFPONVr"
   },
   "source": [
    "## V. Reshape train and test set"
   ]
  },
  {
   "cell_type": "code",
   "execution_count": null,
   "metadata": {
    "colab": {},
    "colab_type": "code",
    "id": "bMz-jz7QjeFk"
   },
   "outputs": [],
   "source": [
    "# Reshape for convolution\n",
    "X_train = X_train.reshape(X_train.shape[0], X_train.shape[1] , X_train.shape[2], X_train.shape[3], 1)\n",
    "X_test = X_test.reshape(X_test.shape[0], X_test.shape[1] , X_test.shape[2], X_test.shape[3], 1)"
   ]
  },
  {
   "cell_type": "markdown",
   "metadata": {
    "colab_type": "text",
    "id": "rOVTlQcmOWhn"
   },
   "source": [
    "## VI. Time Distributed ConvNet model"
   ]
  },
  {
   "cell_type": "code",
   "execution_count": null,
   "metadata": {
    "colab": {
     "base_uri": "https://localhost:8080/",
     "height": 1448
    },
    "colab_type": "code",
    "id": "5YRyu1Xgi94C",
    "outputId": "8aeb878a-9e3b-4b34-8608-0866da11f751"
   },
   "outputs": [],
   "source": [
    "K.clear_session()\n",
    "\n",
    "# Define two sets of inputs: MFCC and FBANK\n",
    "input_y = Input(shape=X_train.shape[1:], name='Input_MELSPECT')\n",
    "\n",
    "## First Conv block\n",
    "y = TimeDistributed(Conv2D(32, kernel_size=(3, 3), strides=(1, 1), padding='same'), name='Conv_1_MELSPECT')(input_y)\n",
    "y = TimeDistributed(BatchNormalization(), name='BatchNorm_1_MELSPECT')(y)\n",
    "y = TimeDistributed(Activation('elu'), name='Activ_1_MELSPECT')(y)\n",
    "y = TimeDistributed(MaxPooling2D(pool_size=(2, 2), strides=(2, 2), padding='same'), name='MaxPool_1_MELSPECT')(y)\n",
    "y = TimeDistributed(Dropout(0.2), name='Drop_1_MELSPECT')(y)     \n",
    "\n",
    "## Second Conv block\n",
    "y = TimeDistributed(Conv2D(32, kernel_size=(3, 3), strides=(1, 1), padding='same'), name='Conv_4_MELSPECT')(y)\n",
    "y = TimeDistributed(BatchNormalization(), name='BatchNorm_4_MELSPECT')(y)\n",
    "y = TimeDistributed(Activation('elu'), name='Activ_4_MELSPECT')(y)\n",
    "y = TimeDistributed(MaxPooling2D(pool_size=(4, 4), strides=(4, 4), padding='same'), name='MaxPool_4_MELSPECT')(y)\n",
    "y = TimeDistributed(Dropout(0.2), name='Drop_4_MELSPECT')(y)  \n",
    "\n",
    "## Flat\n",
    "y = TimeDistributed(Flatten(), name='Flat_MELSPECT')(y)                      \n",
    "                               \n",
    "# Apply LSTM for conceptual understanding\n",
    "y = LSTM(64, return_sequences=False, dropout=0.2, name='LSTM_1')(y)\n",
    "y = Dense(y_train.shape[1], activation='softmax', name='FC')(y)\n",
    "\n",
    "# Build final model\n",
    "model = Model(inputs=input_y, outputs=y)\n"
   ]
  },
  {
   "cell_type": "code",
   "execution_count": null,
   "metadata": {
    "colab": {
     "base_uri": "https://localhost:8080/",
     "height": 3505
    },
    "colab_type": "code",
    "id": "oYI-Z_ypjBPm",
    "outputId": "e1559a19-a5d1-4d4c-826f-6260efd96093"
   },
   "outputs": [],
   "source": [
    "# Compile model\n",
    "model.compile(optimizer=SGD(lr=0.01, decay=1e-6, momentum=0.8), loss='categorical_crossentropy', metrics=['accuracy'])\n",
    "best_model_save = ModelCheckpoint('../Model/[CNN-LSTM]Model.hdf5', save_best_only=True, monitor='val_acc', mode='max')\n",
    "early_stopping = EarlyStopping(monitor='val_acc', patience=30, verbose=1, mode='max')\n",
    "history = model.fit(X_train, y_train, batch_size=64, epochs=100, validation_data=(X_test, y_test), callbacks=[early_stopping, best_model_save])"
   ]
  },
  {
   "cell_type": "code",
   "execution_count": null,
   "metadata": {
    "colab": {
     "base_uri": "https://localhost:8080/",
     "height": 633
    },
    "colab_type": "code",
    "id": "xRqBasJCjFDr",
    "outputId": "757fa392-2325-4183-c70e-9a817e8de224"
   },
   "outputs": [],
   "source": [
    "# Loss Curves\n",
    "plt.figure(figsize=(25, 10))\n",
    "plt.subplot(1, 2, 1)\n",
    "plt.plot(history.history['loss'],'-g',linewidth=1.0)\n",
    "plt.plot(history.history['val_loss'],'r',linewidth=1.0)\n",
    "plt.legend(['Training loss', 'Validation Loss'],fontsize=14)\n",
    "plt.xlabel('Epochs ',fontsize=16)\n",
    "plt.ylabel('Loss',fontsize=16)\n",
    "plt.title('Loss Curves',fontsize=22)\n",
    " \n",
    "# Accuracy Curves\n",
    "plt.subplot(1, 2, 2)\n",
    "plt.plot(history.history['acc'],'-g',linewidth=1.0)\n",
    "plt.plot(history.history['val_acc'],'r',linewidth=1.0)\n",
    "plt.legend(['Training Accuracy', 'Validation Accuracy'],fontsize=14)\n",
    "plt.xlabel('Epochs ',fontsize=16)\n",
    "\n",
    "plt.ylabel('Accuracy',fontsize=16)\n",
    "plt.title('Accuracy Curves',fontsize=22)\n",
    "plt.show()"
   ]
  }
 ],
 "metadata": {
  "accelerator": "GPU",
  "colab": {
   "collapsed_sections": [],
   "name": "Time Distributed ConvNet.ipynb",
   "provenance": [],
   "version": "0.3.2"
  },
  "kernelspec": {
   "display_name": "Python 3",
   "language": "python",
   "name": "python3"
  },
  "language_info": {
   "codemirror_mode": {
    "name": "ipython",
    "version": 3
   },
   "file_extension": ".py",
   "mimetype": "text/x-python",
   "name": "python",
   "nbconvert_exporter": "python",
   "pygments_lexer": "ipython3",
   "version": "3.7.5"
  }
 },
 "nbformat": 4,
 "nbformat_minor": 1
}
